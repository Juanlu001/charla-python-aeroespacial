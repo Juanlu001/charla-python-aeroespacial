{
 "cells": [
  {
   "cell_type": "markdown",
   "metadata": {
    "slideshow": {
     "slide_type": "slide"
    }
   },
   "source": [
    "# Python en la ingeniería aeroespacial a través del software libre\n",
    "\n",
    "![OSCW](img/oscw.png)\n",
    "\n",
    "## Juan Luis Cano - 2018-09-26 @ UC3M¶"
   ]
  },
  {
   "cell_type": "markdown",
   "metadata": {
    "slideshow": {
     "slide_type": "notes"
    }
   },
   "source": [
    "En esta charla haremos un repaso de **la importancia del software libre en la industria aeroespacial**. Mencionaremos diferentes proyectos de software libre de aplicación en el sector espacial, desde **software-defined radio (SDR)** para comunicación con satélites, **gestión de redes de estaciones terrenas**, **análisis de datos de tráfico aéreo**, **astrodinámica** y **determinación de órbita**. Hablaremos del papel de agrupaciones tales como **Libre Space Foundation** u **OpenAstronomy**, con especial atención al proyecto **poliastro**. Incidiremos sobre el **lenguaje de programación Python**, su papel durante el **Open Source Cubesat Workshop** celebrado en la sede española de la ESA durante la misma semana, y la **comunidad** formada en nuestro país en torno a él. Para finalizar, informaremos de **diversas iniciativas** que financian a estudiantes para que trabajen con software libre, en particular el Google Summer of Code, y **qué tipo de conocimientos** hacen falta para tener éxito en este tipo de proyectos.\n",
    "\n",
    "https://twitter.com/uc3m_aero/status/1044228871233687552/photo/1"
   ]
  },
  {
   "cell_type": "markdown",
   "metadata": {
    "slideshow": {
     "slide_type": "slide"
    }
   },
   "source": [
    "# Índice\n",
    "\n",
    "1. ¿Qué son el software libre y el código abierto?\n",
    "2. ¿Qué papel juega el software libre en la industria aeroespacial?\n",
    "3. ¿Qué organizaciones empujan el uso del software libre para aplicaciones espaciales?\n",
    "4. ¿Qué son Python y su comunidad?\n",
    "5. ¿Cómo colaborar con proyectos de código abierto?"
   ]
  },
  {
   "cell_type": "markdown",
   "metadata": {
    "slideshow": {
     "slide_type": "notes"
    }
   },
   "source": [
    "1. Open source\n",
    "  - Bruce Perens\n",
    "2. Industria aeroespacial\n",
    "  - New Space\n",
    "  - Dos vertientes: cómo la industria aeroespacial aprovecha el software libre que ya existe, y cómo la industria aeroespacial libera cada vez más software\n",
    "  - gpredict\n",
    "  - gnuradio\n",
    "  - satnogs\n",
    "  - cubesats\n",
    "  - pocketcubes\n",
    "3. Organizaciones\n",
    "  - NumFOCUS\n",
    "  - OpenAstronomy\n",
    "  - LibreSpace Foundation\n",
    "4. Python\n",
    "  - OSCW18\n",
    "  - Python España\n",
    "5. Cómo colaborar\n",
    "  - git & GitHub, flujo de trabajo\n",
    "  - \"How to ask smart questions\"\n",
    "  - GSOC\n",
    "  - SOCIS (ESA Summer of Code in Space)"
   ]
  },
  {
   "cell_type": "markdown",
   "metadata": {
    "slideshow": {
     "slide_type": "subslide"
    }
   },
   "source": [
    "# Presentación\n",
    "\n",
    "* **Ingeniero ~~Aeroespacial~~ Aeronáutico** apasionado por la Astrodinámica, los satélites y el espacio 🛰\n",
    "* Presidente de la asociación sin ánimo de lucro **Python España** y co-organizador de **PyCon España** 🐍\n",
    "  - Próxima edición en Málaga en unos días, no hay entradas https://2018.es.pycon.org/\n",
    "* **Ingeniero de software** en **Satellogic** 🌍\n",
    "* Defensor del software libre y entusiasta de Python para aplicaciones científicas 🕮\n",
    "* Hard Rock lover 🎸\n",
    "\n",
    "¡Sígueme! https://github.com/Juanlu001/\n",
    "\n",
    "![Juanlu](img/juanlu_esa.jpg)"
   ]
  },
  {
   "cell_type": "markdown",
   "metadata": {
    "slideshow": {
     "slide_type": "slide"
    }
   },
   "source": [
    "# 1. ¿Qué son el software libre y el código abierto?\n",
    "\n",
    "## Historia\n",
    "\n",
    "* En los **'50** y los **'60** se intercambiaba código libremente en Internet (recordemos que la Web aún no existía)\n",
    "* En los **'70** las empresas empezaron a comercializar software y se empezó a restringir el acceso al código fuente\n",
    "* El software libre como movimiento surgió en los '80 en respuesta a esta evolución\n",
    "* En los **'90** aparecieron Linux y muchos lenguajes de programación que se siguen usando hoy en día, entre ellos Python\n",
    "* En los **'00** empieza la revolución del Big Data y todo el stack de software es abierto y desarrollado por empresas\n",
    "* En los **'10** GitHub sobrepasa a la competencia y cambia la forma de hacer software"
   ]
  },
  {
   "cell_type": "markdown",
   "metadata": {
    "slideshow": {
     "slide_type": "subslide"
    }
   },
   "source": [
    "## Definiciones\n",
    "\n",
    "> The Free Software Definition written by Richard Stallman and published by Free Software Foundation (FSF), defines free software as being software that ensures that the end users have freedom in using, studying, sharing and modifying that software.\n",
    ">\n",
    "> —https://en.wikipedia.org/wiki/The_Free_Software_Definition\n",
    "\n",
    "* **Software Libre**: Énfasis en la libertad de los usuarios y en restringir usos en productos no libres\n",
    "* **Open source**: Énfasis en la disponibilidad del código\n",
    "* La clave está en el tipo de licencia\n",
    "* _Ausencia de licencia quiere decir \"todos los derechos reservados\", es decir, imposibilidad de modificación o redistribución_"
   ]
  },
  {
   "cell_type": "markdown",
   "metadata": {
    "slideshow": {
     "slide_type": "subslide"
    }
   },
   "source": [
    "## Motivaciones\n",
    "\n",
    "¿Por qué los individuos y las empresas **producen** código abierto?\n",
    "\n",
    "* Para los **individuos**, son igualmente importantes las motivaciones intrínsecas (principalmente autodeterminación) como extrínsecas (principalmente \"capital humano\", aprendizaje)[1]\n",
    "* Las **organizaciones y empresas**, por su parte, tratan de externalizar los costes y los riesgos del software que **no** les diferencia frente a la competencia (\"non-business-differentiating software\")\n",
    "\n",
    "En cuanto al **uso**, el ahorro en el **coste total de propiedad** es un factor fundamental [citation needed].\n",
    "\n",
    "[1] Alexander Hars, Shaosong Ou (2002) Working for Free? Motivations for Participating in Open-Source Projects, International Journal of Electronic Commerce, 6:3, 25-39, DOI: [10.1080/10864415.2002.11044241](https://doi.org/10.1080/10864415.2002.11044241)\n",
    "\n",
    "[2] https://www.infoworld.com/article/2642331/operating-systems/open-source-roundtable--bruce-perens.html"
   ]
  },
  {
   "cell_type": "markdown",
   "metadata": {
    "slideshow": {
     "slide_type": "slide"
    }
   },
   "source": [
    "# 2. ¿Qué papel juega el software libre en la industria aeroespacial?\n",
    "\n",
    "<blockquote class=\"twitter-tweet\" data-lang=\"en\"><p lang=\"en\" dir=\"ltr\">TIL: SpaceX uses Linux both on Falcon and Dragon. <a href=\"https://t.co/JBN9cpjpYP\">https://t.co/JBN9cpjpYP</a> <a href=\"https://t.co/jUW7yxtsKD\">pic.twitter.com/jUW7yxtsKD</a></p>&mdash; Jaana B. Dogan (@rakyll) <a href=\"https://twitter.com/rakyll/status/1043957719554613248?ref_src=twsrc%5Etfw\">September 23, 2018</a></blockquote>\n",
    "<script async src=\"https://platform.twitter.com/widgets.js\" charset=\"utf-8\"></script>"
   ]
  },
  {
   "cell_type": "markdown",
   "metadata": {
    "slideshow": {
     "slide_type": "subslide"
    }
   },
   "source": [
    "<blockquote class=\"twitter-tweet\" data-lang=\"en\"><p lang=\"en\" dir=\"ltr\">What a moment: Alexandru Csete OZ9AEC, creator of gpredict, stands next to his creation at the ESA office. <a href=\"https://twitter.com/hashtag/OSCW18?src=hash&amp;ref_src=twsrc%5Etfw\">#OSCW18</a> <br><br>--Does any of you know gpredict?<br>--Yes, I wrote it.<br><br>Magic! <a href=\"https://t.co/404x8eTVQb\">pic.twitter.com/404x8eTVQb</a></p>&mdash; poliastro (@poliastro_py) <a href=\"https://twitter.com/poliastro_py/status/1044194227788419073?ref_src=twsrc%5Etfw\">September 24, 2018</a></blockquote>\n",
    "<script async src=\"https://platform.twitter.com/widgets.js\" charset=\"utf-8\"></script>"
   ]
  },
  {
   "cell_type": "markdown",
   "metadata": {
    "slideshow": {
     "slide_type": "slide"
    }
   },
   "source": [
    "# 3. ¿Qué organizaciones empujan el uso del software libre para ciencia e ingeniería?"
   ]
  },
  {
   "cell_type": "markdown",
   "metadata": {
    "slideshow": {
     "slide_type": "subslide"
    }
   },
   "source": [
    "## NumFOCUS\n",
    "\n",
    "![NumFOCUS](img/numfocus.png)\n",
    "\n",
    "https://numfocus.org/"
   ]
  },
  {
   "cell_type": "markdown",
   "metadata": {
    "slideshow": {
     "slide_type": "subslide"
    }
   },
   "source": [
    "## OpenAstronomy\n",
    "\n",
    "![OpenAstronomy](img/openastronomy.png)\n",
    "\n",
    "https://openastronomy.org/"
   ]
  },
  {
   "cell_type": "markdown",
   "metadata": {
    "slideshow": {
     "slide_type": "subslide"
    }
   },
   "source": [
    "## Libre Space Foundation\n",
    "\n",
    "![Libre Space Foundation](img/librespace2.jpg)\n",
    "\n",
    "https://libre.space/"
   ]
  },
  {
   "cell_type": "markdown",
   "metadata": {
    "slideshow": {
     "slide_type": "slide"
    }
   },
   "source": [
    "# 4. ¿Qué son Python y su comunidad?\n",
    "\n",
    "<blockquote class=\"twitter-tweet\" data-conversation=\"none\" data-lang=\"en\"><p lang=\"cy\" dir=\"ltr\">🖤🖤🖤 Python 🖤🖤🖤</p>&mdash; Elon Musk (@elonmusk) <a href=\"https://twitter.com/elonmusk/status/1016002749446516737?ref_src=twsrc%5Etfw\">July 8, 2018</a></blockquote>\n",
    "<script async src=\"https://platform.twitter.com/widgets.js\" charset=\"utf-8\"></script>"
   ]
  },
  {
   "cell_type": "markdown",
   "metadata": {
    "slideshow": {
     "slide_type": "subslide"
    }
   },
   "source": []
  },
  {
   "cell_type": "markdown",
   "metadata": {
    "slideshow": {
     "slide_type": "subslide"
    }
   },
   "source": [
    "# 5. ¿Cómo colaborar en proyectos de código abierto?"
   ]
  },
  {
   "cell_type": "markdown",
   "metadata": {
    "slideshow": {
     "slide_type": "subslide"
    }
   },
   "source": []
  },
  {
   "cell_type": "markdown",
   "metadata": {
    "slideshow": {
     "slide_type": "slide"
    }
   },
   "source": [
    "# ~ \"Claim Space, the Libre Way\" 🚀🛰 ~\n",
    "\n",
    "* Diapositivas: https://github.com/Juanlu001/charla-python-aeroespacial\n",
    "* Chat de poliastro: https://riot.im/app/#/room/#poliastro:matrix.org\n",
    "* Twitter: https://twitter.com/poliastro_py\n",
    "\n",
    "# ¿Preguntas?"
   ]
  }
 ],
 "metadata": {
  "celltoolbar": "Slideshow",
  "kernelspec": {
   "display_name": "Python 3",
   "language": "python",
   "name": "python3"
  },
  "language_info": {
   "codemirror_mode": {
    "name": "ipython",
    "version": 3
   },
   "file_extension": ".py",
   "mimetype": "text/x-python",
   "name": "python",
   "nbconvert_exporter": "python",
   "pygments_lexer": "ipython3",
   "version": "3.7.0"
  }
 },
 "nbformat": 4,
 "nbformat_minor": 2
}
